{
 "cells": [
  {
   "cell_type": "markdown",
   "metadata": {},
   "source": [
    "# Inital split and data imputation "
   ]
  },
  {
   "cell_type": "markdown",
   "metadata": {},
   "source": [
    "## imports - packages"
   ]
  },
  {
   "cell_type": "code",
   "execution_count": 2,
   "metadata": {},
   "outputs": [],
   "source": [
    "import numpy as np\n",
    "import pandas as pd \n",
    "import geopandas as gpd\n",
    "import seaborn as sns \n",
    "import matplotlib.pyplot as plt\n",
    "import pyproj\n",
    "import os \n",
    "import yaml\n",
    "\n",
    "# Load configuration from a yaml file\n",
    "config_path = '../configs/feature_value_dicts.yaml'\n",
    "with open(config_path, 'r') as file:\n",
    "    config = yaml.safe_load(file)\n",
    "\n",
    "# set pyproj data directory to current env to ensure pyproj works properly\n",
    "pyproj.datadir.set_data_dir(\"C:/Users/davha/anaconda3/envs/machine_learning_preprocessing/Library/share/proj\")"
   ]
  },
  {
   "cell_type": "markdown",
   "metadata": {},
   "source": [
    "## import datasets"
   ]
  },
  {
   "cell_type": "code",
   "execution_count": 3,
   "metadata": {},
   "outputs": [],
   "source": [
    "# generated dataset from create_bwi_ml_dataset.py\n",
    "data = pd.read_csv('../datasets/ml_bwi_v2.csv') \n",
    "data_cop = data.copy() # Use copy for the rest of the notebook\n",
    "\n",
    "# federal states Germany \n",
    "regions = gpd.read_file('../datasets/de.json')"
   ]
  },
  {
   "cell_type": "markdown",
   "metadata": {},
   "source": [
    "## preparation of supplementary datasets"
   ]
  },
  {
   "cell_type": "code",
   "execution_count": 4,
   "metadata": {},
   "outputs": [
    {
     "name": "stderr",
     "output_type": "stream",
     "text": [
      "C:\\Users\\davha\\AppData\\Local\\Temp\\ipykernel_84788\\854291472.py:21: FutureWarning: Downcasting behavior in `replace` is deprecated and will be removed in a future version. To retain the old behavior, explicitly call `result.infer_objects(copy=False)`. To opt-in to the future behavior, set `pd.set_option('future.no_silent_downcasting', True)`\n",
      "  regions['name'] = regions['name'].replace(county_dict)\n"
     ]
    }
   ],
   "source": [
    "# Adapt region naming in regions dataset \n",
    "county_dict = {\n",
    "    \"Schleswig-Holstein\": 1,\n",
    "    \"Hamburg\": 2,\n",
    "    \"Niedersachsen\": 3,\n",
    "    \"Bremen\": 4,\n",
    "    \"Nordrhein-Westfalen\": 5,\n",
    "    \"Hessen\": 6,\n",
    "    \"Rheinland-Pfalz\": 7,\n",
    "    \"Baden-Württemberg\": 8,\n",
    "    \"Bayern\": 9,\n",
    "    \"Saarland\": 10,\n",
    "    \"Berlin\": 11,\n",
    "    \"Brandenburg\": 12,\n",
    "    \"Mecklenburg-Vorpommern\": 13,\n",
    "    \"Sachsen\": 14,\n",
    "    \"Sachsen-Anhalt\": 15,\n",
    "    \"Thüringen\": 16\n",
    "}\n",
    "\n",
    "regions['name'] = regions['name'].replace(county_dict)\n"
   ]
  },
  {
   "cell_type": "markdown",
   "metadata": {},
   "source": [
    "### filter dead trees"
   ]
  },
  {
   "cell_type": "code",
   "execution_count": 5,
   "metadata": {},
   "outputs": [
    {
     "name": "stderr",
     "output_type": "stream",
     "text": [
      "C:\\Users\\davha\\AppData\\Local\\Temp\\ipykernel_84788\\2561581448.py:3: SettingWithCopyWarning: \n",
      "A value is trying to be set on a copy of a slice from a DataFrame\n",
      "\n",
      "See the caveats in the documentation: https://pandas.pydata.org/pandas-docs/stable/user_guide/indexing.html#returning-a-view-versus-a-copy\n",
      "  data_cop.drop(columns=['tot'], inplace=True)\n"
     ]
    }
   ],
   "source": [
    "# Filter dead trees \n",
    "data_cop = data[data['tot'] == 0]\n",
    "data_cop.drop(columns=['tot'], inplace=True)"
   ]
  },
  {
   "cell_type": "markdown",
   "metadata": {},
   "source": [
    "### select target species"
   ]
  },
  {
   "cell_type": "code",
   "execution_count": 6,
   "metadata": {},
   "outputs": [],
   "source": [
    "# Select the main species \n",
    "species = [10, 20, 30, 40, 50, 100, 110, 111, 140, 141, 200]\n",
    "\n",
    "# Transform oak and maple species into one category\n",
    "data_cop.loc[data_cop['Ba'].isin([110, 111]), 'Ba'] = 110\n",
    "data_cop.loc[data_cop['Ba'].isin([140, 141]), 'Ba'] = 140\n",
    "\n",
    "# Only 9 target classes remaining\n",
    "data_cop = data_cop[data_cop['Ba'].isin(species)]"
   ]
  },
  {
   "cell_type": "markdown",
   "metadata": {},
   "source": [
    "## Dataset pre-processing based on successor notebook "
   ]
  },
  {
   "cell_type": "markdown",
   "metadata": {},
   "source": [
    "The dataset has custom NaN values for both numerical and categorical features. In the following these are replaced with Numpy NaNs. "
   ]
  },
  {
   "cell_type": "code",
   "execution_count": 7,
   "metadata": {},
   "outputs": [],
   "source": [
    "def replace_custom_NA_with_NaN(df, no_data_value, filter_type='any'):\n",
    "    if isinstance(no_data_value, list):\n",
    "        for value in no_data_value:\n",
    "            df.replace(value, np.nan, inplace=True)\n",
    "    else:\n",
    "        df.replace(no_data_value, np.nan, inplace=True)\n",
    "\n",
    "# Filter rows that contain no data for any feature\n",
    "replace_custom_NA_with_NaN(data_cop, no_data_value=[-9999, -1], filter_type='any')"
   ]
  },
  {
   "cell_type": "markdown",
   "metadata": {},
   "source": [
    "Remove manual selected columns after EDA in notebook [insert notebook link here]"
   ]
  },
  {
   "cell_type": "code",
   "execution_count": 8,
   "metadata": {},
   "outputs": [],
   "source": [
    "cols_to_remove = [\n",
    "    'NatNaeheLT7cm', # Remove redundant natural proximity column\n",
    "    'nfk_60', # Remove nfk classes \n",
    "    'nfk_80',\n",
    "    'nfk_90',\n",
    "    'nfk_100',\n",
    "    'nfk_160',\n",
    "    'BhdDiff', # Remove differential columns \n",
    "    'HoeheDiff',\n",
    "    'GDiff',\n",
    "    'VolRDiff',\n",
    "    'VolEDiff',\n",
    "    'vVolEDiff',\n",
    "    'Biom_oDiff',\n",
    "    'Biom_uDiff',\n",
    "    'Biov_oDiff',\n",
    "    'Al_baDiff',\n",
    "    'GExpKl4', # Remove categorical counterparts to already existing numerical columns\n",
    "    'GExpKl8',\n",
    "    'GneigKl5',\n",
    "    'Bhdst1',\n",
    "    'Bhdst5',\n",
    "    'Alkl5',\n",
    "    'hnnSt100',\n",
    "    'hnnSt250',\n",
    "    'Bnr', # remove columns that hold database key information\n",
    "    'year_first',\n",
    "    'year_last', \n",
    "    'jSchael_x', # Yes/No on bark damage due to game\n",
    "    'VolR_FAO', # FAO specific volume calculation \n",
    "    'VolE', # Volume of the tree without bark\n",
    "    'vVolE', # usable bolume of the tree without bark in \n",
    "    'StfM', # normalized standing area per ha for the given tree\n",
    "    'Biom_u',  # below ground biomass -> not available from RS/EO data\n",
    "    'Zaun', # Yes/No on fence around the tree\n",
    "    'ForestType', # Includes the main species and is therefore logical not relevant in the datset\n",
    "    'RAN',  # Tnr, Enr based feature counting the number of non-forest edges in the grid\n",
    "    'Kaefer', # Yes/No on bark beetle infestation\n",
    "    'jSchael_y', # redundant jSchael_x \n",
    "    'aeSchael', # Yes/No on bark damage due to game\n",
    "    'AnzSchad', # Numer of damages on the tree\n",
    "    'Ruecke', # Yes/No damage on the tree due to logging\n",
    "    'Specht', # Yes/No on woodpecker holes\n",
    "    'Pilz', # Yes/No on fungus on the tree\n",
    "    'Harz', # Yes/No on resin on the tree\n",
    "    'LAND', # federal state (redundant to bl)\n",
    "    'SOEH_NR', # soil profile key for the soil type\n",
    "    'SOEH_KRZ', # soil profile key for the soil type\n",
    "    'SOEH_VAR', # soil profile key for the soil type\n",
    "    'ADepth', # depth of the A horizon -> not available from RS/EO data\n",
    "    'NumHTypes', # numy of different horzon types in the soil profile -> not available from RS/EO data\n",
    "    'potNatWg', # forest families that mostly named by the tree species used as target\n",
    "    'GrGr2', # categorical feature combining heght and dbh \n",
    "    'Av', # method of measurement -> same for all trees\n",
    "]\n",
    "\n",
    "data_cop.drop(columns=cols_to_remove, inplace=True)"
   ]
  },
  {
   "cell_type": "markdown",
   "metadata": {},
   "source": [
    "Adaptations in BODTYP and WASSER features to reduce the number of modalities in both features."
   ]
  },
  {
   "cell_type": "code",
   "execution_count": 9,
   "metadata": {},
   "outputs": [],
   "source": [
    "import re\n",
    "# Change soil type column to reduce number of categories\n",
    "data_cop['BODTYP'] = data_cop['BODTYP'].apply(lambda x: re.findall(r'[A-Z]+', str(x)))\n",
    "data_cop['BODTYP'] = data_cop['BODTYP'].apply(lambda x: x[0][0] if x else None)"
   ]
  },
  {
   "cell_type": "code",
   "execution_count": 10,
   "metadata": {},
   "outputs": [],
   "source": [
    "# Change water column to reduce number of categories\n",
    "data_cop['WASSER'] = data_cop['WASSER'].apply(lambda x: x[0] if isinstance(x, str) else x)"
   ]
  },
  {
   "cell_type": "markdown",
   "metadata": {},
   "source": [
    "Split into target features and group info "
   ]
  },
  {
   "cell_type": "code",
   "execution_count": 11,
   "metadata": {},
   "outputs": [],
   "source": [
    "group_info = data_cop[['Tnr', 'Enr', 'bl']]\n",
    "target = data_cop['Ba']\n",
    "features = data_cop.drop(columns=['Tnr', 'Enr', 'Ba', 'bl'])"
   ]
  },
  {
   "cell_type": "markdown",
   "metadata": {},
   "source": [
    "Get missing value mask "
   ]
  },
  {
   "cell_type": "code",
   "execution_count": 12,
   "metadata": {},
   "outputs": [],
   "source": [
    "from sklearn.impute import MissingIndicator \n",
    "miss_indicator = MissingIndicator(missing_values=np.nan, features='all')\n",
    "\n",
    "miss_indicator = MissingIndicator(missing_values=np.nan, features='all')\n",
    "missing_mask_before = miss_indicator.fit_transform(features)\n"
   ]
  },
  {
   "cell_type": "code",
   "execution_count": 13,
   "metadata": {},
   "outputs": [],
   "source": [
    "# Change Gform, natHoe, NatNaeheHaupt, Bkl, NAEHR to str without x.0\n",
    "for col in ['Gform', 'natHoe', 'NatNaeheHaupt', 'Bkl', 'NAEHR']:\n",
    "    features[col] = features[col].apply(lambda x: str(int(float(x))) if pd.notna(x) else x) \n"
   ]
  },
  {
   "cell_type": "code",
   "execution_count": 14,
   "metadata": {},
   "outputs": [],
   "source": [
    "miss_indicator = MissingIndicator(missing_values=np.nan, features='all')\n",
    "missing_mask_after = miss_indicator.fit_transform(features)"
   ]
  },
  {
   "cell_type": "code",
   "execution_count": 15,
   "metadata": {},
   "outputs": [
    {
     "data": {
      "text/plain": [
       "np.int64(0)"
      ]
     },
     "execution_count": 15,
     "metadata": {},
     "output_type": "execute_result"
    }
   ],
   "source": [
    "(missing_mask_after ==  missing_mask_before).sum() - missing_mask_before.size"
   ]
  },
  {
   "cell_type": "markdown",
   "metadata": {},
   "source": [
    "Missing values are in place as before"
   ]
  },
  {
   "cell_type": "code",
   "execution_count": 16,
   "metadata": {},
   "outputs": [],
   "source": [
    "# load categorical column names from config file (the keys)\n",
    "categorical_features_to_changed_to_str = [key for key in config.keys()]\n",
    "\n",
    "# remove columns that are already str or not within the feature set (Ba)\n",
    "categorical_features_to_changed_to_str.remove('BODTYP') # we changed the type already earlier\n",
    "categorical_features_to_changed_to_str.remove('WASSER') # we changed the type already earlier \n",
    "categorical_features_to_changed_to_str.remove('Ba')"
   ]
  },
  {
   "cell_type": "markdown",
   "metadata": {},
   "source": [
    "Replace values"
   ]
  },
  {
   "cell_type": "code",
   "execution_count": 17,
   "metadata": {},
   "outputs": [
    {
     "name": "stdout",
     "output_type": "stream",
     "text": [
      "Changing Ast to str\n",
      "Changing Be to str\n",
      "Changing BestockAb to str\n",
      "Changing Bkl to str\n",
      "Changing Bs to str\n",
      "Changing Gform to str\n",
      "Changing natHoe to str\n",
      "Changing NatNaeheHaupt to str\n",
      "Changing Situation to str\n",
      "Changing NAEHR to str\n"
     ]
    }
   ],
   "source": [
    "for feature in categorical_features_to_changed_to_str:\n",
    "    print(f'Changing {feature} to str')\n",
    "    features[feature] = features[feature].astype(str)"
   ]
  },
  {
   "cell_type": "code",
   "execution_count": 18,
   "metadata": {},
   "outputs": [],
   "source": [
    "# Change values based on key-value pairs in the config file \n",
    "for key in config.keys():\n",
    "    if key != 'Ba':\n",
    "     features[key] = features[key].replace(config[key])"
   ]
  },
  {
   "cell_type": "code",
   "execution_count": 19,
   "metadata": {},
   "outputs": [],
   "source": [
    "# Make nans again based on the missing mask \n",
    "features = features.where(~missing_mask_after, np.nan)"
   ]
  },
  {
   "cell_type": "markdown",
   "metadata": {},
   "source": [
    "Replace target names "
   ]
  },
  {
   "cell_type": "code",
   "execution_count": 20,
   "metadata": {},
   "outputs": [],
   "source": [
    "target = target.astype(str).replace(config['Ba'])"
   ]
  },
  {
   "cell_type": "code",
   "execution_count": 21,
   "metadata": {},
   "outputs": [],
   "source": [
    "data_cop_before_splitting = pd.concat([group_info, target, features], axis=1).reset_index(drop=True)"
   ]
  },
  {
   "cell_type": "markdown",
   "metadata": {},
   "source": [
    "Split train/test before imputing "
   ]
  },
  {
   "cell_type": "code",
   "execution_count": 22,
   "metadata": {},
   "outputs": [],
   "source": [
    "# sklearn setup \n",
    "from sklearn.model_selection import StratifiedGroupKFold\n",
    "sgkf = StratifiedGroupKFold(n_splits=5) # set to 5 to get a 80/20 split\n",
    "                    \n",
    "# split dataset \n",
    "features = data_cop_before_splitting.drop(['Tnr', 'Enr', 'Ba', 'bl'], axis=1)\n",
    "targets = data_cop_before_splitting['Ba']\n",
    "groups = data_cop_before_splitting['Tnr']"
   ]
  },
  {
   "cell_type": "code",
   "execution_count": 23,
   "metadata": {},
   "outputs": [],
   "source": [
    "for train, test in sgkf.split(features, targets, groups=groups): \n",
    "    train_idx = train\n",
    "    test_idx = test\n",
    "    break"
   ]
  },
  {
   "cell_type": "code",
   "execution_count": 24,
   "metadata": {},
   "outputs": [],
   "source": [
    "data_cop_train = data_cop_before_splitting.iloc[train_idx]\n",
    "data_cop_test = data_cop_before_splitting.iloc[test_idx]\n",
    "groups_train = groups.iloc[train_idx]\n",
    "groups_test = groups.iloc[test_idx]"
   ]
  },
  {
   "cell_type": "code",
   "execution_count": 25,
   "metadata": {},
   "outputs": [],
   "source": [
    "def find_modality_differences(data_train, data_test):\n",
    "    categorical_columns = data_test.select_dtypes(include=['object']).columns\n",
    "    differences = {}\n",
    "    for col in categorical_columns:\n",
    "        test_modalities = set(data_test[col].unique())\n",
    "        train_modalities = set(data_train[col].unique())\n",
    "        diff_test = test_modalities - train_modalities\n",
    "        diff_train = train_modalities - test_modalities\n",
    "        if diff_test or diff_train:\n",
    "            differences[col] = {\n",
    "                'in_test_not_in_train': diff_test,\n",
    "                'in_train_not_in_test': diff_train\n",
    "            }\n",
    "\n",
    "    if len(differences) == 0: \n",
    "        print(f\"No modality differences found between train and testset\")\n",
    "    else:\n",
    "        print(\n",
    "            f\"Modality differences found between train and testset\"\n",
    "            f\"\\nSee below for details:\"\n",
    "            f\"\\n---------------------------------\"\n",
    "            )\n",
    "        for col, values in differences.items():\n",
    "            print(\n",
    "                f\"{col}:\"\n",
    "                f\"\\nIn test not in train: {values[\"in_test_not_in_train\"]}\"\n",
    "                f\"\\nIn train not in test: {values[\"in_train_not_in_test\"]}\"\n",
    "                f\"\\n---------------------------------\")"
   ]
  },
  {
   "cell_type": "code",
   "execution_count": 26,
   "metadata": {},
   "outputs": [
    {
     "name": "stdout",
     "output_type": "stream",
     "text": [
      "Modality differences found between train and testset\n",
      "See below for details:\n",
      "---------------------------------\n",
      "Gform:\n",
      "In test not in train: set()\n",
      "In train not in test: {nan}\n",
      "---------------------------------\n",
      "NatNaeheHaupt:\n",
      "In test not in train: {nan}\n",
      "In train not in test: {nan}\n",
      "---------------------------------\n",
      "Situation:\n",
      "In test not in train: set()\n",
      "In train not in test: {'immission damage'}\n",
      "---------------------------------\n",
      "Bkl:\n",
      "In test not in train: {nan}\n",
      "In train not in test: {nan}\n",
      "---------------------------------\n",
      "BODTYP:\n",
      "In test not in train: set()\n",
      "In train not in test: {'T'}\n",
      "---------------------------------\n",
      "NAEHR:\n",
      "In test not in train: {nan}\n",
      "In train not in test: {nan}\n",
      "---------------------------------\n",
      "WASSER:\n",
      "In test not in train: {nan}\n",
      "In train not in test: {nan}\n",
      "---------------------------------\n"
     ]
    }
   ],
   "source": [
    "find_modality_differences(data_cop_train, data_cop_test)"
   ]
  },
  {
   "cell_type": "code",
   "execution_count": 27,
   "metadata": {},
   "outputs": [],
   "source": [
    "def plot_train_test_split(y_train, y_test, title): \n",
    "    n_instances = len(y_train) + len(y_test)\n",
    "    fig, axs = plt.subplots(1, 2, figsize=(12, 6))\n",
    "    sns.barplot(x=y_train.value_counts().index, y=y_train.value_counts().values, hue=y_train.value_counts(normalize=True), ax=axs[0])\n",
    "    sns.barplot(x=y_test.value_counts().index, y=y_test.value_counts().values, hue=y_test.value_counts(normalize=True), ax=axs[1])\n",
    "    for ax in axs: \n",
    "        ax.set_xlabel('Ba')\n",
    "        ax.tick_params(axis='x', rotation=45)\n",
    "        ax.set_ylabel('Instance counts')\n",
    "        ax.set_xlabel('Tree species')\n",
    "    axs[0].set_title(f\"Train set: {len(y_train)} ({(len(y_train)/n_instances):.2f}) samples\")\n",
    "    axs[1].set_title(f\"Test set: {len(y_test)} ({(len(y_test)/n_instances):.2f}) samples\")\n",
    "    fig.suptitle(title, fontsize=16)\n",
    "    plt.show()"
   ]
  },
  {
   "cell_type": "code",
   "execution_count": 28,
   "metadata": {},
   "outputs": [
    {
     "data": {
      "image/png": "[encoded data removed]",
      "text/plain": [
       "<Figure size 1200x600 with 2 Axes>"
      ]
     },
     "metadata": {},
     "output_type": "display_data"
    }
   ],
   "source": [
    "plot_train_test_split(data_cop_train['Ba'], data_cop_test['Ba'], 'Train-Test split before imputing')"
   ]
  },
  {
   "cell_type": "code",
   "execution_count": 29,
   "metadata": {},
   "outputs": [],
   "source": [
    "# Drop all NaNs in the test set \n",
    "data_test = data_cop_test.dropna(how='any')\n",
    "data_train_noimpute = data_cop_train.dropna(how='any')\n",
    "\n",
    "if data_test.isna().sum().sum() != 0:\n",
    "    print(f\"There are still NaN values in the test set\")\n",
    "\n",
    "if data_train_noimpute.isna().sum().sum() != 0:\n",
    "    print(f\"There are still NaN values in the train set\")"
   ]
  },
  {
   "cell_type": "code",
   "execution_count": 30,
   "metadata": {},
   "outputs": [
    {
     "data": {
      "image/png": "[encoded data removed]",
      "text/plain": [
       "<Figure size 1200x600 with 2 Axes>"
      ]
     },
     "metadata": {},
     "output_type": "display_data"
    }
   ],
   "source": [
    "plot_train_test_split(data_train_noimpute['Ba'], data_test['Ba'], 'train-test split after train hard nan removal')"
   ]
  },
  {
   "cell_type": "markdown",
   "metadata": {},
   "source": [
    "Write noimpute and testset to disk "
   ]
  },
  {
   "cell_type": "code",
   "execution_count": 31,
   "metadata": {},
   "outputs": [],
   "source": [
    "data_test.to_csv('../datasets/ml_bwi_v3_test.csv', index=False)\n",
    "data_train_noimpute.to_csv('../datasets/ml_bwi_v3_train_noimpute.csv', index=False)"
   ]
  },
  {
   "cell_type": "markdown",
   "metadata": {},
   "source": [
    "# Imputing "
   ]
  },
  {
   "cell_type": "code",
   "execution_count": 32,
   "metadata": {},
   "outputs": [],
   "source": [
    "data_cop_train_features = data_cop_train.drop(columns=['Tnr', 'Enr', 'Ba', 'bl'])"
   ]
  },
  {
   "cell_type": "code",
   "execution_count": 33,
   "metadata": {},
   "outputs": [],
   "source": [
    "def print_nans_per_column(df):\n",
    "    nans = df.isna().sum()\n",
    "    nans = nans[nans > 0]\n",
    "    print(nans)"
   ]
  },
  {
   "cell_type": "code",
   "execution_count": 34,
   "metadata": {},
   "outputs": [
    {
     "name": "stdout",
     "output_type": "stream",
     "text": [
      "D7                1111\n",
      "Biov_o             140\n",
      "Gexp             51443\n",
      "Gform                4\n",
      "NatNaeheHaupt      103\n",
      "Bkl               6181\n",
      "BODTYP            6843\n",
      "NAEHR            19343\n",
      "WASSER           13047\n",
      "nfk_30            9690\n",
      "bio_6              248\n",
      "bio_8               11\n",
      "bio_9               38\n",
      "bio_11             261\n",
      "dtype: int64\n"
     ]
    }
   ],
   "source": [
    "print_nans_per_column(data_cop_train_features)"
   ]
  },
  {
   "cell_type": "code",
   "execution_count": 35,
   "metadata": {},
   "outputs": [],
   "source": [
    "categorical_columns = data_cop_train_features.select_dtypes(include='object').columns.tolist()\n",
    "numerical_columns = data_cop_train_features.drop(columns=categorical_columns).columns.tolist()"
   ]
  },
  {
   "cell_type": "code",
   "execution_count": 36,
   "metadata": {},
   "outputs": [],
   "source": [
    "data_cop_train_features['BODTYP'] = data_cop_train_features['BODTYP'].replace(np.nan, np.nan)"
   ]
  },
  {
   "cell_type": "code",
   "execution_count": 37,
   "metadata": {},
   "outputs": [
    {
     "name": "stdout",
     "output_type": "stream",
     "text": [
      "D7                1111\n",
      "Biov_o             140\n",
      "Gexp             51443\n",
      "Gform                4\n",
      "NatNaeheHaupt      103\n",
      "Bkl               6181\n",
      "BODTYP            6843\n",
      "NAEHR            19343\n",
      "WASSER           13047\n",
      "nfk_30            9690\n",
      "bio_6              248\n",
      "bio_8               11\n",
      "bio_9               38\n",
      "bio_11             261\n",
      "dtype: int64\n"
     ]
    }
   ],
   "source": [
    "print_nans_per_column(data_cop_train_features)"
   ]
  },
  {
   "cell_type": "code",
   "execution_count": 38,
   "metadata": {},
   "outputs": [],
   "source": [
    "miss_indicator = MissingIndicator(missing_values=np.nan, features='all')\n",
    "missing_mask_imputation = miss_indicator.fit_transform(data_cop_train_features)"
   ]
  },
  {
   "cell_type": "code",
   "execution_count": 39,
   "metadata": {},
   "outputs": [],
   "source": [
    "np.save('../datasets/missing_mask_imputation.npy', missing_mask_imputation)"
   ]
  },
  {
   "cell_type": "code",
   "execution_count": 40,
   "metadata": {},
   "outputs": [],
   "source": [
    "df_missing_mask = pd.DataFrame(missing_mask_imputation, columns=data_cop_train_features.columns)"
   ]
  },
  {
   "cell_type": "code",
   "execution_count": 41,
   "metadata": {},
   "outputs": [
    {
     "name": "stdout",
     "output_type": "stream",
     "text": [
      "D7                1111\n",
      "Biov_o             140\n",
      "Gexp             51443\n",
      "Gform                4\n",
      "NatNaeheHaupt      103\n",
      "Bkl               6181\n",
      "BODTYP            6843\n",
      "NAEHR            19343\n",
      "WASSER           13047\n",
      "nfk_30            9690\n",
      "bio_6              248\n",
      "bio_8               11\n",
      "bio_9               38\n",
      "bio_11             261\n",
      "dtype: int64\n"
     ]
    }
   ],
   "source": [
    "df_missing_mask = df_missing_mask.replace({True: np.nan, False: 'not missing'})\n",
    "print_nans_per_column(df_missing_mask)"
   ]
  },
  {
   "cell_type": "code",
   "execution_count": 42,
   "metadata": {},
   "outputs": [],
   "source": [
    "# Make nans again based on the missing mask \n",
    "data_cop_train_features = data_cop_train_features.where(~missing_mask_imputation, np.nan)"
   ]
  },
  {
   "cell_type": "code",
   "execution_count": 43,
   "metadata": {},
   "outputs": [],
   "source": [
    "# Index the categorical columns usin LabelEncoder to save encodings for later reuse\n",
    "from sklearn.preprocessing import LabelEncoder\n",
    "\n",
    "indexers = {}\n",
    "for col in categorical_columns:\n",
    "    le = LabelEncoder()\n",
    "    indexer = le.fit(data_cop_train_features[col])\n",
    "    data_cop_train_features[col] = indexer.transform(data_cop_train_features[col])\n",
    "    indexers[col] = indexer"
   ]
  },
  {
   "cell_type": "code",
   "execution_count": 44,
   "metadata": {},
   "outputs": [],
   "source": [
    "# Make nans again based on the missing mask \n",
    "data_cop_train_features = data_cop_train_features.where(~missing_mask_imputation, np.nan)"
   ]
  },
  {
   "cell_type": "code",
   "execution_count": 45,
   "metadata": {},
   "outputs": [
    {
     "data": {
      "text/plain": [
       "array([ 1., 12.,  5.,  0., 13.,  8., nan,  6., 10., 16.,  3., 11.,  2.,\n",
       "        7.,  4., 15.,  9., 14.])"
      ]
     },
     "execution_count": 45,
     "metadata": {},
     "output_type": "execute_result"
    }
   ],
   "source": [
    "data_cop_train_features['BODTYP'].unique()"
   ]
  },
  {
   "cell_type": "code",
   "execution_count": 46,
   "metadata": {},
   "outputs": [],
   "source": [
    "# Impute missing numerical values with StandardScaler and kNNImputer \n",
    "from sklearn.impute import KNNImputer\n",
    "from sklearn.preprocessing import StandardScaler\n",
    "from sklearn.compose import ColumnTransformer"
   ]
  },
  {
   "cell_type": "code",
   "execution_count": 47,
   "metadata": {},
   "outputs": [],
   "source": [
    "preprocessor = ColumnTransformer(\n",
    "    transformers=[\n",
    "        ('num', StandardScaler(), numerical_columns),\n",
    "        ('cat', 'passthrough', categorical_columns)\n",
    "    ]\n",
    ")\n",
    "\n",
    "features_transformed = preprocessor.fit_transform(data_cop_train_features)\n",
    "\n",
    "features_transformed = pd.DataFrame(features_transformed, columns=preprocessor.get_feature_names_out())\n"
   ]
  },
  {
   "cell_type": "code",
   "execution_count": 48,
   "metadata": {},
   "outputs": [],
   "source": [
    "used_StandardScaler = preprocessor.named_transformers_['num']"
   ]
  },
  {
   "cell_type": "code",
   "execution_count": 49,
   "metadata": {},
   "outputs": [
    {
     "data": {
      "text/plain": [
       "['./experiments/imputation_related/num_features_standardscaler.joblib']"
      ]
     },
     "execution_count": 49,
     "metadata": {},
     "output_type": "execute_result"
    }
   ],
   "source": [
    "import joblib \n",
    "joblib.dump(used_StandardScaler, './experiments/imputation_related/num_features_standardscaler.joblib')"
   ]
  },
  {
   "cell_type": "code",
   "execution_count": 53,
   "metadata": {},
   "outputs": [],
   "source": [
    "imputer = KNNImputer(missing_values=np.nan, n_neighbors=1, add_indicator=True)"
   ]
  },
  {
   "cell_type": "code",
   "execution_count": 54,
   "metadata": {},
   "outputs": [
    {
     "ename": "",
     "evalue": "",
     "output_type": "error",
     "traceback": [
      "\u001b[1;31mThe Kernel crashed while executing code in the current cell or a previous cell. \n",
      "\u001b[1;31mPlease review the code in the cell(s) to identify a possible cause of the failure. \n",
      "\u001b[1;31mClick <a href='https://aka.ms/vscodeJupyterKernelCrash'>here</a> for more info. \n",
      "\u001b[1;31mView Jupyter <a href='command:jupyter.viewOutput'>log</a> for further details."
     ]
    }
   ],
   "source": [
    "imputed = imputer.fit_transform(features_transformed)"
   ]
  },
  {
   "cell_type": "code",
   "execution_count": 56,
   "metadata": {},
   "outputs": [],
   "source": [
    "df_features_imputed = pd.DataFrame(imputed, columns=imputer.get_feature_names_out())\n",
    "df_features_imputed.to_csv('../datasets/features_imputed.csv')"
   ]
  },
  {
   "cell_type": "code",
   "execution_count": 57,
   "metadata": {},
   "outputs": [],
   "source": [
    "df_features_missing_indicators = df_features_imputed.filter(like='missingindicator')\n",
    "df_features_missing_indicators.to_csv('../datasets/features_missing_indicators.csv')"
   ]
  },
  {
   "cell_type": "code",
   "execution_count": 54,
   "metadata": {},
   "outputs": [],
   "source": [
    "# load datasets here to reduce processing time after\n",
    "df_features_imputed = pd.read_csv('../datasets/features_imputed.csv', index_col=0)"
   ]
  },
  {
   "cell_type": "code",
   "execution_count": 55,
   "metadata": {},
   "outputs": [],
   "source": [
    "df_features_after_imputation = df_features_imputed.iloc[:, 0:47]\n",
    "df_features_after_imputation.columns = [col.split('__')[1] for col in df_features_after_imputation.columns]\n"
   ]
  },
  {
   "cell_type": "code",
   "execution_count": 56,
   "metadata": {},
   "outputs": [
    {
     "name": "stderr",
     "output_type": "stream",
     "text": [
      "C:\\Users\\davha\\AppData\\Local\\Temp\\ipykernel_84788\\1071729237.py:3: FutureWarning: Setting an item of incompatible dtype is deprecated and will raise in a future error of pandas. Value '['main stand' 'main stand' 'main stand' ... 'main stand' 'main stand'\n",
      " 'main stand']' has dtype incompatible with float64, please explicitly cast to a compatible dtype first.\n",
      "  df_features_after_imputation.loc[:, col] = indexers[col].inverse_transform(df_features_after_imputation[col].astype(int))\n",
      "C:\\Users\\davha\\AppData\\Local\\Temp\\ipykernel_84788\\1071729237.py:3: FutureWarning: Setting an item of incompatible dtype is deprecated and will raise in a future error of pandas. Value '['middle sloping site' 'middle sloping site' 'middle sloping site' ...\n",
      " 'middle sloping site' 'middle sloping site' 'middle sloping site']' has dtype incompatible with float64, please explicitly cast to a compatible dtype first.\n",
      "  df_features_after_imputation.loc[:, col] = indexers[col].inverse_transform(df_features_after_imputation[col].astype(int))\n",
      "C:\\Users\\davha\\AppData\\Local\\Temp\\ipykernel_84788\\1071729237.py:3: FutureWarning: Setting an item of incompatible dtype is deprecated and will raise in a future error of pandas. Value '['montane' 'montane' 'montane' ... 'montane' 'montane' 'montane']' has dtype incompatible with float64, please explicitly cast to a compatible dtype first.\n",
      "  df_features_after_imputation.loc[:, col] = indexers[col].inverse_transform(df_features_after_imputation[col].astype(int))\n",
      "C:\\Users\\davha\\AppData\\Local\\Temp\\ipykernel_84788\\1071729237.py:3: FutureWarning: Setting an item of incompatible dtype is deprecated and will raise in a future error of pandas. Value '['even-aged high forest' 'even-aged high forest' 'even-aged high forest'\n",
      " ... 'even-aged high forest' 'even-aged high forest'\n",
      " 'even-aged high forest']' has dtype incompatible with float64, please explicitly cast to a compatible dtype first.\n",
      "  df_features_after_imputation.loc[:, col] = indexers[col].inverse_transform(df_features_after_imputation[col].astype(int))\n",
      "C:\\Users\\davha\\AppData\\Local\\Temp\\ipykernel_84788\\1071729237.py:3: FutureWarning: Setting an item of incompatible dtype is deprecated and will raise in a future error of pandas. Value '['seminaturel' 'seminaturel' 'seminaturel' ... 'conditional seminaturel'\n",
      " 'conditional seminaturel' 'conditional seminaturel']' has dtype incompatible with float64, please explicitly cast to a compatible dtype first.\n",
      "  df_features_after_imputation.loc[:, col] = indexers[col].inverse_transform(df_features_after_imputation[col].astype(int))\n",
      "C:\\Users\\davha\\AppData\\Local\\Temp\\ipykernel_84788\\1071729237.py:3: FutureWarning: Setting an item of incompatible dtype is deprecated and will raise in a future error of pandas. Value '['none' 'none' 'none' ... 'none' 'none' 'none']' has dtype incompatible with float64, please explicitly cast to a compatible dtype first.\n",
      "  df_features_after_imputation.loc[:, col] = indexers[col].inverse_transform(df_features_after_imputation[col].astype(int))\n",
      "C:\\Users\\davha\\AppData\\Local\\Temp\\ipykernel_84788\\1071729237.py:3: FutureWarning: Setting an item of incompatible dtype is deprecated and will raise in a future error of pandas. Value '['slightly subdominant tree' 'dominant tree' 'predominant tree' ...\n",
      " 'slightly subdominant tree' 'dominant tree' 'slightly subdominant tree']' has dtype incompatible with float64, please explicitly cast to a compatible dtype first.\n",
      "  df_features_after_imputation.loc[:, col] = indexers[col].inverse_transform(df_features_after_imputation[col].astype(int))\n",
      "C:\\Users\\davha\\AppData\\Local\\Temp\\ipykernel_84788\\1071729237.py:3: FutureWarning: Setting an item of incompatible dtype is deprecated and will raise in a future error of pandas. Value '['no pruning' 'no pruning' 'no pruning' ... 'no pruning' 'no pruning'\n",
      " 'no pruning']' has dtype incompatible with float64, please explicitly cast to a compatible dtype first.\n",
      "  df_features_after_imputation.loc[:, col] = indexers[col].inverse_transform(df_features_after_imputation[col].astype(int))\n",
      "C:\\Users\\davha\\AppData\\Local\\Temp\\ipykernel_84788\\1071729237.py:3: FutureWarning: Setting an item of incompatible dtype is deprecated and will raise in a future error of pandas. Value '['single storied' 'single storied' 'single storied' ... 'single storied'\n",
      " 'single storied' 'single storied']' has dtype incompatible with float64, please explicitly cast to a compatible dtype first.\n",
      "  df_features_after_imputation.loc[:, col] = indexers[col].inverse_transform(df_features_after_imputation[col].astype(int))\n",
      "C:\\Users\\davha\\AppData\\Local\\Temp\\ipykernel_84788\\1071729237.py:3: FutureWarning: Setting an item of incompatible dtype is deprecated and will raise in a future error of pandas. Value '['B' 'B' 'B' ... 'P' 'P' 'P']' has dtype incompatible with float64, please explicitly cast to a compatible dtype first.\n",
      "  df_features_after_imputation.loc[:, col] = indexers[col].inverse_transform(df_features_after_imputation[col].astype(int))\n",
      "C:\\Users\\davha\\AppData\\Local\\Temp\\ipykernel_84788\\1071729237.py:3: FutureWarning: Setting an item of incompatible dtype is deprecated and will raise in a future error of pandas. Value '['eutrophic' 'eutrophic' 'eutrophic' ... 'oligotrophic' 'oligotrophic'\n",
      " 'oligotrophic']' has dtype incompatible with float64, please explicitly cast to a compatible dtype first.\n",
      "  df_features_after_imputation.loc[:, col] = indexers[col].inverse_transform(df_features_after_imputation[col].astype(int))\n",
      "C:\\Users\\davha\\AppData\\Local\\Temp\\ipykernel_84788\\1071729237.py:3: FutureWarning: Setting an item of incompatible dtype is deprecated and will raise in a future error of pandas. Value '['T' 'T' 'T' ... 'T' 'T' 'T']' has dtype incompatible with float64, please explicitly cast to a compatible dtype first.\n",
      "  df_features_after_imputation.loc[:, col] = indexers[col].inverse_transform(df_features_after_imputation[col].astype(int))\n"
     ]
    }
   ],
   "source": [
    "for col in categorical_columns: \n",
    "  df_features_after_imputation.loc[:, col] = df_features_after_imputation[col].astype(int)\n",
    "  df_features_after_imputation.loc[:, col] = indexers[col].inverse_transform(df_features_after_imputation[col].astype(int))  "
   ]
  },
  {
   "cell_type": "code",
   "execution_count": 57,
   "metadata": {},
   "outputs": [],
   "source": [
    "if df_features_after_imputation.isna().sum().sum() != 0:\n",
    "    print(f\"There are still NaN values in the set\")"
   ]
  },
  {
   "cell_type": "code",
   "execution_count": 58,
   "metadata": {},
   "outputs": [
    {
     "name": "stdout",
     "output_type": "stream",
     "text": [
      "<class 'pandas.core.frame.DataFrame'>\n",
      "Index: 137885 entries, 0 to 137884\n",
      "Data columns (total 47 columns):\n",
      " #   Column         Non-Null Count   Dtype  \n",
      "---  ------         --------------   -----  \n",
      " 0   Al_ba          137885 non-null  float64\n",
      " 1   Bhd            137885 non-null  float64\n",
      " 2   Hoehe          137885 non-null  float64\n",
      " 3   D7             137885 non-null  float64\n",
      " 4   D03            137885 non-null  float64\n",
      " 5   G              137885 non-null  float64\n",
      " 6   VolR           137885 non-null  float64\n",
      " 7   N_ha           137885 non-null  float64\n",
      " 8   Stf            137885 non-null  float64\n",
      " 9   Biom_o         137885 non-null  float64\n",
      " 10  Biov_o         137885 non-null  float64\n",
      " 11  Gexp           137885 non-null  float64\n",
      " 12  Gneig          137885 non-null  float64\n",
      " 13  HoeheNN        137885 non-null  float64\n",
      " 14  TOT            137885 non-null  float64\n",
      " 15  nfk_30         137885 non-null  float64\n",
      " 16  bio_1          137885 non-null  float64\n",
      " 17  bio_2          137885 non-null  float64\n",
      " 18  bio_3          137885 non-null  float64\n",
      " 19  bio_4          137885 non-null  float64\n",
      " 20  bio_5          137885 non-null  float64\n",
      " 21  bio_6          137885 non-null  float64\n",
      " 22  bio_7          137885 non-null  float64\n",
      " 23  bio_8          137885 non-null  float64\n",
      " 24  bio_9          137885 non-null  float64\n",
      " 25  bio_10         137885 non-null  float64\n",
      " 26  bio_11         137885 non-null  float64\n",
      " 27  bio_12         137885 non-null  float64\n",
      " 28  bio_13         137885 non-null  float64\n",
      " 29  bio_14         137885 non-null  float64\n",
      " 30  bio_15         137885 non-null  float64\n",
      " 31  bio_16         137885 non-null  float64\n",
      " 32  bio_17         137885 non-null  float64\n",
      " 33  bio_18         137885 non-null  float64\n",
      " 34  bio_19         137885 non-null  float64\n",
      " 35  Bs             137885 non-null  object \n",
      " 36  Gform          137885 non-null  object \n",
      " 37  natHoe         137885 non-null  object \n",
      " 38  Be             137885 non-null  object \n",
      " 39  NatNaeheHaupt  137885 non-null  object \n",
      " 40  Situation      137885 non-null  object \n",
      " 41  Bkl            137885 non-null  object \n",
      " 42  Ast            137885 non-null  object \n",
      " 43  BestockAb      137885 non-null  object \n",
      " 44  BODTYP         137885 non-null  object \n",
      " 45  NAEHR          137885 non-null  object \n",
      " 46  WASSER         137885 non-null  object \n",
      "dtypes: float64(35), object(12)\n",
      "memory usage: 50.5+ MB\n"
     ]
    }
   ],
   "source": [
    "df_features_after_imputation.info()"
   ]
  },
  {
   "cell_type": "code",
   "execution_count": 61,
   "metadata": {},
   "outputs": [
    {
     "name": "stderr",
     "output_type": "stream",
     "text": [
      "C:\\Users\\davha\\AppData\\Local\\Temp\\ipykernel_84788\\3262291854.py:2: SettingWithCopyWarning: \n",
      "A value is trying to be set on a copy of a slice from a DataFrame.\n",
      "Try using .loc[row_indexer,col_indexer] = value instead\n",
      "\n",
      "See the caveats in the documentation: https://pandas.pydata.org/pandas-docs/stable/user_guide/indexing.html#returning-a-view-versus-a-copy\n",
      "  df_features_after_imputation[numerical_columns] = used_StandardScaler.inverse_transform(df_features_after_imputation[numerical_columns])\n"
     ]
    }
   ],
   "source": [
    "# redo scaling for numerical columns \n",
    "df_features_after_imputation[numerical_columns] = used_StandardScaler.inverse_transform(df_features_after_imputation[numerical_columns])"
   ]
  },
  {
   "cell_type": "code",
   "execution_count": 66,
   "metadata": {},
   "outputs": [],
   "source": [
    "data_train_imputed = pd.concat([data_cop_train[['Tnr', 'Enr', 'Ba', 'bl']].reset_index(drop=True), df_features_after_imputation.reset_index(drop=True)], axis=1)"
   ]
  },
  {
   "cell_type": "code",
   "execution_count": null,
   "metadata": {},
   "outputs": [],
   "source": [
    "# Save imputed dataset\n",
    "data_train_imputed.to_csv('../datasets/ml_bwi_v3_train_imputed.csv')"
   ]
  },
  {
   "cell_type": "code",
   "execution_count": 65,
   "metadata": {},
   "outputs": [
    {
     "data": {
      "image/png": "[encoded data removed]",
      "text/plain": [
       "<Figure size 1200x600 with 2 Axes>"
      ]
     },
     "metadata": {},
     "output_type": "display_data"
    }
   ],
   "source": [
    "plot_train_test_split(data_train_imputed['Ba'], data_train_noimpute['Ba'], 'Target distribution before and after imputation')"
   ]
  },
  {
   "cell_type": "code",
   "execution_count": 68,
   "metadata": {},
   "outputs": [
    {
     "data": {
      "text/html": [
       "<div>\n",
       "<style scoped>\n",
       "    .dataframe tbody tr th:only-of-type {\n",
       "        vertical-align: middle;\n",
       "    }\n",
       "\n",
       "    .dataframe tbody tr th {\n",
       "        vertical-align: top;\n",
       "    }\n",
       "\n",
       "    .dataframe thead th {\n",
       "        text-align: right;\n",
       "    }\n",
       "</style>\n",
       "<table border=\"1\" class=\"dataframe\">\n",
       "  <thead>\n",
       "    <tr style=\"text-align: right;\">\n",
       "      <th></th>\n",
       "      <th>missingindicator_num__D7</th>\n",
       "      <th>missingindicator_num__Biov_o</th>\n",
       "      <th>missingindicator_num__Gexp</th>\n",
       "      <th>missingindicator_num__nfk_30</th>\n",
       "      <th>missingindicator_num__bio_6</th>\n",
       "      <th>missingindicator_num__bio_8</th>\n",
       "      <th>missingindicator_num__bio_9</th>\n",
       "      <th>missingindicator_num__bio_11</th>\n",
       "      <th>missingindicator_cat__Gform</th>\n",
       "      <th>missingindicator_cat__NatNaeheHaupt</th>\n",
       "      <th>missingindicator_cat__Bkl</th>\n",
       "      <th>missingindicator_cat__BODTYP</th>\n",
       "      <th>missingindicator_cat__NAEHR</th>\n",
       "      <th>missingindicator_cat__WASSER</th>\n",
       "    </tr>\n",
       "  </thead>\n",
       "  <tbody>\n",
       "    <tr>\n",
       "      <th>35</th>\n",
       "      <td>1.0</td>\n",
       "      <td>0.0</td>\n",
       "      <td>0.0</td>\n",
       "      <td>0.0</td>\n",
       "      <td>0.0</td>\n",
       "      <td>0.0</td>\n",
       "      <td>0.0</td>\n",
       "      <td>0.0</td>\n",
       "      <td>0.0</td>\n",
       "      <td>0.0</td>\n",
       "      <td>0.0</td>\n",
       "      <td>0.0</td>\n",
       "      <td>0.0</td>\n",
       "      <td>0.0</td>\n",
       "    </tr>\n",
       "    <tr>\n",
       "      <th>38</th>\n",
       "      <td>0.0</td>\n",
       "      <td>0.0</td>\n",
       "      <td>0.0</td>\n",
       "      <td>0.0</td>\n",
       "      <td>0.0</td>\n",
       "      <td>0.0</td>\n",
       "      <td>0.0</td>\n",
       "      <td>0.0</td>\n",
       "      <td>0.0</td>\n",
       "      <td>0.0</td>\n",
       "      <td>1.0</td>\n",
       "      <td>0.0</td>\n",
       "      <td>0.0</td>\n",
       "      <td>0.0</td>\n",
       "    </tr>\n",
       "    <tr>\n",
       "      <th>39</th>\n",
       "      <td>0.0</td>\n",
       "      <td>0.0</td>\n",
       "      <td>0.0</td>\n",
       "      <td>0.0</td>\n",
       "      <td>0.0</td>\n",
       "      <td>0.0</td>\n",
       "      <td>0.0</td>\n",
       "      <td>0.0</td>\n",
       "      <td>0.0</td>\n",
       "      <td>0.0</td>\n",
       "      <td>1.0</td>\n",
       "      <td>0.0</td>\n",
       "      <td>0.0</td>\n",
       "      <td>0.0</td>\n",
       "    </tr>\n",
       "    <tr>\n",
       "      <th>40</th>\n",
       "      <td>0.0</td>\n",
       "      <td>0.0</td>\n",
       "      <td>0.0</td>\n",
       "      <td>0.0</td>\n",
       "      <td>0.0</td>\n",
       "      <td>0.0</td>\n",
       "      <td>0.0</td>\n",
       "      <td>0.0</td>\n",
       "      <td>0.0</td>\n",
       "      <td>0.0</td>\n",
       "      <td>1.0</td>\n",
       "      <td>0.0</td>\n",
       "      <td>0.0</td>\n",
       "      <td>0.0</td>\n",
       "    </tr>\n",
       "    <tr>\n",
       "      <th>41</th>\n",
       "      <td>0.0</td>\n",
       "      <td>0.0</td>\n",
       "      <td>0.0</td>\n",
       "      <td>0.0</td>\n",
       "      <td>0.0</td>\n",
       "      <td>0.0</td>\n",
       "      <td>0.0</td>\n",
       "      <td>0.0</td>\n",
       "      <td>0.0</td>\n",
       "      <td>0.0</td>\n",
       "      <td>1.0</td>\n",
       "      <td>0.0</td>\n",
       "      <td>0.0</td>\n",
       "      <td>0.0</td>\n",
       "    </tr>\n",
       "    <tr>\n",
       "      <th>...</th>\n",
       "      <td>...</td>\n",
       "      <td>...</td>\n",
       "      <td>...</td>\n",
       "      <td>...</td>\n",
       "      <td>...</td>\n",
       "      <td>...</td>\n",
       "      <td>...</td>\n",
       "      <td>...</td>\n",
       "      <td>...</td>\n",
       "      <td>...</td>\n",
       "      <td>...</td>\n",
       "      <td>...</td>\n",
       "      <td>...</td>\n",
       "      <td>...</td>\n",
       "    </tr>\n",
       "    <tr>\n",
       "      <th>137850</th>\n",
       "      <td>0.0</td>\n",
       "      <td>0.0</td>\n",
       "      <td>0.0</td>\n",
       "      <td>1.0</td>\n",
       "      <td>0.0</td>\n",
       "      <td>0.0</td>\n",
       "      <td>0.0</td>\n",
       "      <td>0.0</td>\n",
       "      <td>0.0</td>\n",
       "      <td>0.0</td>\n",
       "      <td>0.0</td>\n",
       "      <td>0.0</td>\n",
       "      <td>0.0</td>\n",
       "      <td>0.0</td>\n",
       "    </tr>\n",
       "    <tr>\n",
       "      <th>137851</th>\n",
       "      <td>0.0</td>\n",
       "      <td>0.0</td>\n",
       "      <td>0.0</td>\n",
       "      <td>1.0</td>\n",
       "      <td>0.0</td>\n",
       "      <td>0.0</td>\n",
       "      <td>0.0</td>\n",
       "      <td>0.0</td>\n",
       "      <td>0.0</td>\n",
       "      <td>0.0</td>\n",
       "      <td>0.0</td>\n",
       "      <td>0.0</td>\n",
       "      <td>0.0</td>\n",
       "      <td>0.0</td>\n",
       "    </tr>\n",
       "    <tr>\n",
       "      <th>137852</th>\n",
       "      <td>0.0</td>\n",
       "      <td>0.0</td>\n",
       "      <td>0.0</td>\n",
       "      <td>1.0</td>\n",
       "      <td>0.0</td>\n",
       "      <td>0.0</td>\n",
       "      <td>0.0</td>\n",
       "      <td>0.0</td>\n",
       "      <td>0.0</td>\n",
       "      <td>0.0</td>\n",
       "      <td>0.0</td>\n",
       "      <td>0.0</td>\n",
       "      <td>0.0</td>\n",
       "      <td>0.0</td>\n",
       "    </tr>\n",
       "    <tr>\n",
       "      <th>137853</th>\n",
       "      <td>0.0</td>\n",
       "      <td>0.0</td>\n",
       "      <td>0.0</td>\n",
       "      <td>1.0</td>\n",
       "      <td>0.0</td>\n",
       "      <td>0.0</td>\n",
       "      <td>0.0</td>\n",
       "      <td>0.0</td>\n",
       "      <td>0.0</td>\n",
       "      <td>0.0</td>\n",
       "      <td>0.0</td>\n",
       "      <td>0.0</td>\n",
       "      <td>0.0</td>\n",
       "      <td>0.0</td>\n",
       "    </tr>\n",
       "    <tr>\n",
       "      <th>137854</th>\n",
       "      <td>0.0</td>\n",
       "      <td>0.0</td>\n",
       "      <td>0.0</td>\n",
       "      <td>1.0</td>\n",
       "      <td>0.0</td>\n",
       "      <td>0.0</td>\n",
       "      <td>0.0</td>\n",
       "      <td>0.0</td>\n",
       "      <td>0.0</td>\n",
       "      <td>0.0</td>\n",
       "      <td>0.0</td>\n",
       "      <td>0.0</td>\n",
       "      <td>0.0</td>\n",
       "      <td>0.0</td>\n",
       "    </tr>\n",
       "  </tbody>\n",
       "</table>\n",
       "<p>70741 rows × 14 columns</p>\n",
       "</div>"
      ],
      "text/plain": [
       "        missingindicator_num__D7  missingindicator_num__Biov_o  \\\n",
       "35                           1.0                           0.0   \n",
       "38                           0.0                           0.0   \n",
       "39                           0.0                           0.0   \n",
       "40                           0.0                           0.0   \n",
       "41                           0.0                           0.0   \n",
       "...                          ...                           ...   \n",
       "137850                       0.0                           0.0   \n",
       "137851                       0.0                           0.0   \n",
       "137852                       0.0                           0.0   \n",
       "137853                       0.0                           0.0   \n",
       "137854                       0.0                           0.0   \n",
       "\n",
       "        missingindicator_num__Gexp  missingindicator_num__nfk_30  \\\n",
       "35                             0.0                           0.0   \n",
       "38                             0.0                           0.0   \n",
       "39                             0.0                           0.0   \n",
       "40                             0.0                           0.0   \n",
       "41                             0.0                           0.0   \n",
       "...                            ...                           ...   \n",
       "137850                         0.0                           1.0   \n",
       "137851                         0.0                           1.0   \n",
       "137852                         0.0                           1.0   \n",
       "137853                         0.0                           1.0   \n",
       "137854                         0.0                           1.0   \n",
       "\n",
       "        missingindicator_num__bio_6  missingindicator_num__bio_8  \\\n",
       "35                              0.0                          0.0   \n",
       "38                              0.0                          0.0   \n",
       "39                              0.0                          0.0   \n",
       "40                              0.0                          0.0   \n",
       "41                              0.0                          0.0   \n",
       "...                             ...                          ...   \n",
       "137850                          0.0                          0.0   \n",
       "137851                          0.0                          0.0   \n",
       "137852                          0.0                          0.0   \n",
       "137853                          0.0                          0.0   \n",
       "137854                          0.0                          0.0   \n",
       "\n",
       "        missingindicator_num__bio_9  missingindicator_num__bio_11  \\\n",
       "35                              0.0                           0.0   \n",
       "38                              0.0                           0.0   \n",
       "39                              0.0                           0.0   \n",
       "40                              0.0                           0.0   \n",
       "41                              0.0                           0.0   \n",
       "...                             ...                           ...   \n",
       "137850                          0.0                           0.0   \n",
       "137851                          0.0                           0.0   \n",
       "137852                          0.0                           0.0   \n",
       "137853                          0.0                           0.0   \n",
       "137854                          0.0                           0.0   \n",
       "\n",
       "        missingindicator_cat__Gform  missingindicator_cat__NatNaeheHaupt  \\\n",
       "35                              0.0                                  0.0   \n",
       "38                              0.0                                  0.0   \n",
       "39                              0.0                                  0.0   \n",
       "40                              0.0                                  0.0   \n",
       "41                              0.0                                  0.0   \n",
       "...                             ...                                  ...   \n",
       "137850                          0.0                                  0.0   \n",
       "137851                          0.0                                  0.0   \n",
       "137852                          0.0                                  0.0   \n",
       "137853                          0.0                                  0.0   \n",
       "137854                          0.0                                  0.0   \n",
       "\n",
       "        missingindicator_cat__Bkl  missingindicator_cat__BODTYP  \\\n",
       "35                            0.0                           0.0   \n",
       "38                            1.0                           0.0   \n",
       "39                            1.0                           0.0   \n",
       "40                            1.0                           0.0   \n",
       "41                            1.0                           0.0   \n",
       "...                           ...                           ...   \n",
       "137850                        0.0                           0.0   \n",
       "137851                        0.0                           0.0   \n",
       "137852                        0.0                           0.0   \n",
       "137853                        0.0                           0.0   \n",
       "137854                        0.0                           0.0   \n",
       "\n",
       "        missingindicator_cat__NAEHR  missingindicator_cat__WASSER  \n",
       "35                              0.0                           0.0  \n",
       "38                              0.0                           0.0  \n",
       "39                              0.0                           0.0  \n",
       "40                              0.0                           0.0  \n",
       "41                              0.0                           0.0  \n",
       "...                             ...                           ...  \n",
       "137850                          0.0                           0.0  \n",
       "137851                          0.0                           0.0  \n",
       "137852                          0.0                           0.0  \n",
       "137853                          0.0                           0.0  \n",
       "137854                          0.0                           0.0  \n",
       "\n",
       "[70741 rows x 14 columns]"
      ]
     },
     "execution_count": 68,
     "metadata": {},
     "output_type": "execute_result"
    }
   ],
   "source": [
    "# Filter rows where any of the missing indicator columns have a value of 1\n",
    "missing_instances = df_features_missing_indicators[(df_features_missing_indicators == 1).any(axis=1)]\n",
    "missing_instances"
   ]
  },
  {
   "cell_type": "code",
   "execution_count": null,
   "metadata": {},
   "outputs": [],
   "source": []
  }
 ],
 "metadata": {
  "kernelspec": {
   "display_name": "machine_learning_preprocessing",
   "language": "python",
   "name": "python3"
  },
  "language_info": {
   "codemirror_mode": {
    "name": "ipython",
    "version": 3
   },
   "file_extension": ".py",
   "mimetype": "text/x-python",
   "name": "python",
   "nbconvert_exporter": "python",
   "pygments_lexer": "ipython3",
   "version": "3.12.5"
  }
 },
 "nbformat": 4,
 "nbformat_minor": 2
}
